{
 "cells": [
  {
   "cell_type": "markdown",
   "metadata": {},
   "source": [
    "# Libraries"
   ]
  },
  {
   "cell_type": "code",
   "execution_count": 104,
   "metadata": {},
   "outputs": [
    {
     "name": "stderr",
     "output_type": "stream",
     "text": [
      "[nltk_data] Downloading package wordnet to\n",
      "[nltk_data]     /home/danimacsai/nltk_data...\n",
      "[nltk_data]   Package wordnet is already up-to-date!\n",
      "[nltk_data] Downloading package wordnet_ic to\n",
      "[nltk_data]     /home/danimacsai/nltk_data...\n",
      "[nltk_data]   Package wordnet_ic is already up-to-date!\n"
     ]
    }
   ],
   "source": [
    "import pandas as pd\n",
    "import spacy\n",
    "import numpy as np\n",
    "import sys\n",
    "\n",
    "nlp = spacy.load(\"en_core_web_sm\")\n",
    "\n",
    "import nltk\n",
    "from nltk.corpus import wordnet\n",
    "from nltk.corpus import wordnet_ic\n",
    "nltk.download('wordnet')\n",
    "nltk.download('wordnet_ic')\n",
    "ic_brown = wordnet_ic.ic('ic-brown.dat')\n",
    "from nltk import ngrams\n",
    "from nltk.metrics import jaccard_distance"
   ]
  },
  {
   "cell_type": "markdown",
   "metadata": {},
   "source": [
    "# Features"
   ]
  },
  {
   "cell_type": "markdown",
   "metadata": {},
   "source": [
    "## Basic Features"
   ]
  },
  {
   "cell_type": "code",
   "execution_count": 105,
   "metadata": {},
   "outputs": [],
   "source": [
    "def ratio_of_number_of_tokens(tokenized_sentence1, tokenized_sentence2):\n",
    "    \"\"\"Given two tokenized sentences, return the ratio of the number of tokens between them\"\"\"\n",
    "    return min(len(tokenized_sentence1), len(tokenized_sentence2))/max(len(tokenized_sentence1), len(tokenized_sentence2))"
   ]
  },
  {
   "cell_type": "code",
   "execution_count": 106,
   "metadata": {},
   "outputs": [],
   "source": [
    "def ratio_of_number_of_characters(sentence1, sentence2):\n",
    "    \"\"\"Given two strings, return the ratio of the number of characters between them\"\"\"\n",
    "    # Dani: same here, I changed this to the ratio instead of the diff\n",
    "    return min(len(sentence1), len(sentence2)) / max(len(sentence1), len(sentence2))"
   ]
  },
  {
   "cell_type": "markdown",
   "metadata": {},
   "source": [
    "## Jaccard Similarities"
   ]
  },
  {
   "cell_type": "code",
   "execution_count": 107,
   "metadata": {},
   "outputs": [],
   "source": [
    "# Tokens\n",
    "def get_jaccard_similarity(sentence1,sentence2):\n",
    "    \"\"\"Returns Jaccard similarity between sentences\"\"\"\n",
    "    return 1-jaccard_distance(set(sentence1), set(sentence2))"
   ]
  },
  {
   "cell_type": "markdown",
   "metadata": {},
   "source": [
    "## Semantic Features"
   ]
  },
  {
   "cell_type": "code",
   "execution_count": 108,
   "metadata": {},
   "outputs": [],
   "source": [
    "similarity_methods = {\n",
    "    \"wu-palmer\": lambda s1, s2: s1.wup_similarity(s2),\n",
    "    \"path\": lambda s1, s2: s1.path_similarity(s2),\n",
    "    \"leacock\": lambda s1, s2: s1.lch_similarity(s2),\n",
    "    \"lin\": lambda s1, s2: s1.lin_similarity(s2, ic_brown)\n",
    "}"
   ]
  },
  {
   "cell_type": "code",
   "execution_count": 109,
   "metadata": {},
   "outputs": [],
   "source": [
    "def get_wordnet_pos(category):\n",
    "    \"\"\"\n",
    "    Convert a POS tag from the Spacy tagset to the WordNet tagset.\n",
    "    \"\"\"\n",
    "    if category.startswith('J'):\n",
    "        return 'a'  # Adjective\n",
    "    elif category.startswith('V'):\n",
    "        return 'v'  # Verb\n",
    "    elif category.startswith('N'):\n",
    "        return 'n'  # Noun\n",
    "    elif (category.startswith('R')) and (category != 'RP'):\n",
    "        # I looked into the RP tag is for particles\n",
    "        return 'r'  # Adverb\n",
    "    else:\n",
    "        return None  # WordNet doesn't handle other POS tags"
   ]
  },
  {
   "cell_type": "code",
   "execution_count": 110,
   "metadata": {},
   "outputs": [],
   "source": [
    "cache = {}\n",
    "def get_best_synset_pair(word1, word2, pos, similarity, similarity_type: str) -> float:\n",
    "    \"\"\"\n",
    "    Get the best synset pair for two words.\n",
    "\n",
    "    This function gets the best synset pair for two words, considering every possible pair of synsets from the two words. The best pair is the one with the highest similarity score.\n",
    "\n",
    "    Parameters:\n",
    "    - word1: The first word, represented as a Spacy token.\n",
    "    - word2: The second word, represented as a Spacy token.\n",
    "    - pos: A string indicating the part of speech of the words.\n",
    "    - similarity: A function to calculate the similarity between two synsets.\n",
    "    - similarity_type: A string indicating the name of the similarity measure.\n",
    "\n",
    "    Returns:\n",
    "    - A float representing the similarity score of the best synset pair.\n",
    "    \"\"\"\n",
    "    # Creating a cache to save time leveraging the symmetry\n",
    "    cache_key = tuple(sorted([word1.text, word2.text]) + [similarity_type]) \n",
    "    if cache_key in cache:\n",
    "        return cache[cache_key]\n",
    "\n",
    "    synsets_word1 = wordnet.synsets(word1.text, pos=pos)\n",
    "    synsets_word2 = wordnet.synsets(word2.text, pos=pos)\n",
    "    max_sim = 0\n",
    "\n",
    "    for synset1 in synsets_word1:\n",
    "        for synset2 in synsets_word2:\n",
    "            # We skip the satellite adjectives (gives problems for Lin and Leacock)\n",
    "            if synset1.pos() != 's' and synset2.pos() != 's':\n",
    "                sim = similarity(synset1, synset2)\n",
    "                if sim and sim > max_sim:\n",
    "                    max_sim = sim\n",
    "    \n",
    "    cache[cache_key] = max_sim\n",
    "    # If there is no similarity, we return the default value, 0\n",
    "    return max_sim"
   ]
  },
  {
   "cell_type": "code",
   "execution_count": 111,
   "metadata": {},
   "outputs": [],
   "source": [
    "def get_sentence_similarities(sentence1, sentence2, similarity_type: str) -> float:\n",
    "    \"\"\"\n",
    "    Calculate the similarity between two sentences using a specified similarity measure.\n",
    "\n",
    "    For each sentence, the function gets the best similarity value for each word considering every posible pair, using words from the other sentence. \n",
    "    Then the mean of this similarities is computed over the sentence and the output is the mean similarity of the two sentences.\n",
    "\n",
    "    Parameters:\n",
    "    - sentence1: The first sentence, represented as a list of tokens.\n",
    "    - sentence2: The second sentence, represented as a list of tokens.\n",
    "    - similarity_type: A string indicating the type of similarity measure to use. \n",
    "        Options include \"wu-palmer\", \"path\", \"leacock\", and \"lin\".\n",
    "\n",
    "    Returns:\n",
    "    - A float representing the average similarity score between the two sentences.\n",
    "    \"\"\"\n",
    "    # TODO: Judge if we want to normalize by the number of words that have a valid POS for WordNet (current implementation)\n",
    "    \n",
    "\n",
    "    # Do it for sentence1\n",
    "    similarity1 = 0\n",
    "    den = 0 # We will normalize by the number of words that have a valid POS for WordNet\n",
    "    for token1 in sentence1:\n",
    "        similarities = np.array([])\n",
    "        pos1 = get_wordnet_pos(token1.tag_)\n",
    "        if pos1:\n",
    "            den +=1\n",
    "            for token2 in sentence2:\n",
    "                pos2 = get_wordnet_pos(token2.tag_)\n",
    "                if pos2 and pos1 == pos2:\n",
    "                    similarities = np.append(similarities,get_best_synset_pair(token1, token2, pos1, similarity_methods[similarity_type], similarity_type))\n",
    "            if similarities.size > 0:\n",
    "                similarity1 += np.max(similarities)\n",
    "    # We average the similarity (even if they don't get a similarity)\n",
    "    similarity1 = similarity1 / den\n",
    "\n",
    "    # Do it for sentence2\n",
    "    similarity2 = 0\n",
    "    den = 0 # We will normalize by the number of words that have a valid POS for WordNet\n",
    "    for token2 in sentence2:\n",
    "        similarities = np.array([])\n",
    "        pos2 = get_wordnet_pos(token2.tag_)\n",
    "        if pos2:\n",
    "            den +=1\n",
    "            for token1 in sentence1:\n",
    "                pos1 = get_wordnet_pos(token1.tag_)\n",
    "                if pos1 and (pos1 != pos2):\n",
    "                    continue\n",
    "                similarities = np.append(similarities, get_best_synset_pair(token1, token2, pos2, similarity_methods[similarity_type], similarity_type))\n",
    "            if similarities.size > 0:\n",
    "                similarity2 += np.max(similarities)\n",
    "    # We average the similarity (even if they don't get a similarity)\n",
    "    similarity2 = similarity2 / den\n",
    "    \n",
    "    return np.mean(np.array([similarity1, similarity2]))"
   ]
  },
  {
   "cell_type": "markdown",
   "metadata": {},
   "source": [
    "### Wu Palmer"
   ]
  },
  {
   "cell_type": "markdown",
   "metadata": {},
   "source": [
    "### Lin"
   ]
  },
  {
   "cell_type": "markdown",
   "metadata": {},
   "source": [
    "Apparently, in wordnet there is another postag, 'r', that stands for satellite adjective. This doesn't cause problems with wu-palmer, probably because they share the same synsets as they say here:\n",
    "\n",
    "\"Adjectives are arranged in clusters containing head synsets and satellite synsets. Each cluster is organized around antonymous pairs (and occasionally antonymous triplets). The antonymous pairs (or triplets) are indicated in the head synsets of a cluster. Most head synsets have one or more satellite synsets, each of which represents a concept that is similar in meaning to the concept represented by the head synset. One way to think of the adjective cluster organization is to visualize a wheel, with a head synset as the hub and satellite synsets as the spokes. Two or more wheels are logically connected via antonymy, which can be thought of as an axle between the wheels.\" from https://wordnet.princeton.edu/documentation/wngloss7wn\n",
    "\n",
    "The thing is, for some reason this is not allowed when computing lin_similarity. This could be due to some requirements in the use of information from an annotated corpus. I have tried brown and semcor and none work. I could manually remove this, but I want to know why this happens. It stops with:\n",
    "\"nltk.corpus.reader.wordnet.WordNetError: Computing the least common subsumer requires Synset('autochthonal.s.01') and Synset('whole.a.01') to have the same part of speech.\"\n",
    "\n",
    "The mistake says, to compute the least common subsumer it is required to have the same pos tag, but wu-palmer also needs the least common subsummer and it doesn't give any error. I looked into this and there is not information online (some links are broken) and most code snippets don't even consider the 'r' class when they are iterating over synsets. \n",
    "\n",
    "In the end, we did not use lin similarity because semcor and brown corpus apparently do not allow the pos tag 'r' and 'a' from adverbs and adjctives."
   ]
  },
  {
   "cell_type": "markdown",
   "metadata": {},
   "source": [
    "### Word N-Grams Features"
   ]
  },
  {
   "cell_type": "code",
   "execution_count": 112,
   "metadata": {},
   "outputs": [],
   "source": [
    "def get_ngram_similarity(sentence1, sentence2, n):\n",
    "    \"\"\"\n",
    "    Calculate the similarity between two sentences using n-grams.\n",
    "\n",
    "    This function calculates the similarity between two sentences using n-grams. The similarity is calculated as the jaccard similarity between the set of n-grams of the two sentences.\n",
    "\n",
    "    Parameters:\n",
    "    - sentence1: The first sentence, represented as a list of tokens.\n",
    "    - sentence2: The second sentence, represented as a list of tokens.\n",
    "    - n: The size of the n-grams to use.\n",
    "\n",
    "    Returns:\n",
    "    - A float representing the Jaccard similarity between the two sentences.\n",
    "    \"\"\"\n",
    "    ngrams1 = set([str(x) for x in ngrams(sentence1,n)])\n",
    "    ngrams2 = set([str(x) for x in ngrams(sentence2,n)])\n",
    "    # Some sentences have less than n words, so we need to check if the ngrams are empty\n",
    "    if len(ngrams1) == 0 and len(ngrams2) == 0:\n",
    "        return 1\n",
    "    return 1-jaccard_distance(ngrams1,ngrams2)"
   ]
  },
  {
   "cell_type": "markdown",
   "metadata": {},
   "source": [
    "### Character N-Gram Features"
   ]
  },
  {
   "cell_type": "code",
   "execution_count": 113,
   "metadata": {},
   "outputs": [],
   "source": [
    "def get_character_ngram_similarity(sentence1: str, sentence2: str, n: int) -> float:\n",
    "    \"\"\"\n",
    "    Calculate the similarity between two sentences using character n-grams.\n",
    "\n",
    "    This function calculates the similarity between two sentences using character n-grams. The similarity is calculated as the jaccard similarity between the set of n-grams of the two sentences.\n",
    "\n",
    "    Parameters:\n",
    "    - sentence1: The first sentence, represented as a string\n",
    "    - sentence2: The second sentence, represented as a string.\n",
    "    - n: The size of the n-grams to use.\n",
    "\n",
    "    Returns:\n",
    "    - A float representing the Jaccard similarity between the two sentences.\n",
    "    \"\"\"\n",
    "    ngrams1 = set([str(x) for x in ngrams(sentence1,n)])\n",
    "    ngrams2 = set([str(x) for x in ngrams(sentence2,n)])\n",
    "\n",
    "    return 1-jaccard_distance(ngrams1,ngrams2)"
   ]
  },
  {
   "cell_type": "code",
   "execution_count": 114,
   "metadata": {},
   "outputs": [],
   "source": [
    "from sklearn.feature_extraction.text import CountVectorizer\n",
    "from sklearn.metrics.pairwise import cosine_similarity\n",
    "def get_char_ngram_vector_similarity(sentence1: str, sentence2: str, nrange: tuple[int, int]) -> float:\n",
    "    \"\"\"\n",
    "    Calculate the similarity between two sentences using character n-grams.\n",
    "\n",
    "    This function calculates the similarity between two sentences using character n-grams. \n",
    "    The similarity is calculated as the cosine similarity between the vectors of the n-grams of the two sentences.\n",
    "\n",
    "    Parameters:\n",
    "    - sentence1: The first sentence, represented as a string\n",
    "    - sentence2: The second sentence, represented as a string.\n",
    "    - nrange: A tuple representing the range of n-grams to use.\n",
    "\n",
    "    Returns:\n",
    "    - A float representing the cosine similarity between the two sentences.\n",
    "    \"\"\"\n",
    "    vectorizer = CountVectorizer(analyzer='char', ngram_range=nrange)\n",
    "    ngrams = vectorizer.fit_transform([sentence1, sentence2])\n",
    "\n",
    "    # Compute cosine similarity\n",
    "    return cosine_similarity(ngrams[0], ngrams[1])[0][0]"
   ]
  },
  {
   "cell_type": "code",
   "execution_count": 115,
   "metadata": {},
   "outputs": [],
   "source": [
    "import Levenshtein\n",
    "def get_levenstein_ratio(sentence1: str, sentence2: str) -> float:\n",
    "    \"\"\"\n",
    "    Calculate the similarity between two sentences using the Levenshtein ratio.\n",
    "\n",
    "    This function calculates the similarity between two sentences using the Levenshtein ratio. \n",
    "    The similarity is calculated as the ratio of the Levenshtein distance between the two sentences and the sum of the lengths of the two sentences.\n",
    "\n",
    "    Parameters:\n",
    "    - sentence1: The first sentence, represented as a string\n",
    "    - sentence2: The second sentence, represented as a string.\n",
    "\n",
    "    Returns:\n",
    "    - A float representing the Levenshtein ratio between the two sentences.\n",
    "    \"\"\"\n",
    "    return Levenshtein.ratio(sentence1, sentence2)"
   ]
  },
  {
   "cell_type": "markdown",
   "metadata": {},
   "source": [
    "# Function to get all of the features"
   ]
  },
  {
   "cell_type": "code",
   "execution_count": 116,
   "metadata": {},
   "outputs": [],
   "source": [
    "def get_features (df):\n",
    "\n",
    "    features = pd.DataFrame()\n",
    "    for rowindex, row in df.iterrows():\n",
    "        features.at[rowindex, 'token_ratio'] = ratio_of_number_of_tokens(row['0_nlp'], row['1_nlp'])\n",
    "        features.at[rowindex, 'char_ratio'] = ratio_of_number_of_characters(row[\"0_lower\"], row[\"1_lower\"])\n",
    "        features.at[rowindex, 'jaccard_similarity_tokens'] = get_jaccard_similarity([token.text for token in row[\"0_nlp\"]], [token.text for token in row[\"1_nlp\"]])\n",
    "        features.at[rowindex, 'jaccard_similarity_tokens_no_stops'] = get_jaccard_similarity([token.text for token in row[\"0_nlp_no_stop\"]], [token.text for token in row[\"1_nlp_no_stop\"]])\n",
    "        features.at[rowindex, 'jaccard_similarity_lemmas'] = get_jaccard_similarity(row[\"0_lemma\"], row[\"1_lemma\"])\n",
    "        features.at[rowindex, 'jaccard_similarity_lemmas_no_stops'] = get_jaccard_similarity(row[\"0_lemma_no_stop\"], row[\"1_lemma_no_stop\"])\n",
    "        features.at[rowindex, 'wu-palmer'] = get_sentence_similarities(row[\"0_nlp\"], row[\"1_nlp\"], \"wu-palmer\")\n",
    "        #df.at[rowindex, 'lin'] = get_sentence_similarities(row[\"0_nlp\"], row[\"1_nlp\"], \"lin\")\n",
    "        features.at[rowindex, 'path'] = get_sentence_similarities(row[\"0_nlp\"], row[\"1_nlp\"], \"path\")\n",
    "        df.at[rowindex, 'leacock'] = get_sentence_similarities(row[\"0_nlp\"], row[\"1_nlp\"], \"leacock\")\n",
    "        features.at[rowindex, 'bigram_similarity'] = get_ngram_similarity(row[\"0_nlp\"], row[\"1_nlp\"], 2)\n",
    "        features.at[rowindex, 'trigram_similarity'] = get_ngram_similarity(row[\"0_nlp\"], row[\"1_nlp\"], 3)\n",
    "        features.at[rowindex, 'quadgram_similarity'] = get_ngram_similarity(row[\"0_nlp\"], row[\"1_nlp\"], 4)\n",
    "        features.at[rowindex, 'lemma_bigram_similarity'] = get_ngram_similarity(row[\"0_lemma\"], row[\"1_lemma\"], 2)\n",
    "        features.at[rowindex, 'lemma_trigram_similarity'] = get_ngram_similarity(row[\"0_lemma\"], row[\"1_lemma\"], 3)\n",
    "        features.at[rowindex, 'lemma_quadgram_similarity'] = get_ngram_similarity(row[\"0_lemma\"], row[\"1_lemma\"], 4)\n",
    "        features.at[rowindex, 'char_bigram_similarity'] = get_character_ngram_similarity(row[\"0_lower\"], row[\"1_lower\"], 2)\n",
    "        features.at[rowindex, 'char_trigram_similarity'] = get_character_ngram_similarity(row[\"0_lower\"], row[\"1_lower\"], 3)\n",
    "        features.at[rowindex, 'char_quadgram_similarity'] = get_character_ngram_similarity(row[\"0_lower\"], row[\"1_lower\"], 4)\n",
    "        features.at[rowindex, \"char_ngram_vector_similarity_2\"] = get_char_ngram_vector_similarity(row[\"0_lower\"], row[\"1_lower\"], (2, 2))\n",
    "        features.at[rowindex, \"char_ngram_vector_similarity_3\"] = get_char_ngram_vector_similarity(row[\"0_lower\"], row[\"1_lower\"], (3, 3))\n",
    "        features.at[rowindex, \"char_ngram_vector_similarity_4\"] = get_char_ngram_vector_similarity(row[\"0_lower\"], row[\"1_lower\"], (4, 4))\n",
    "        features.at[rowindex, \"char_ngram_vector_similarity_5\"] = get_char_ngram_vector_similarity(row[\"0_lower\"], row[\"1_lower\"], (5, 5))\n",
    "        features.at[rowindex, \"char_ngram_vector_similarity_2_3\"] = get_char_ngram_vector_similarity(row[\"0_lower\"], row[\"1_lower\"], (2, 5))\n",
    "        features.at[rowindex, \"levenstein_ratio\"] = get_levenstein_ratio(row[\"0_lower\"], row[\"1_lower\"])\n",
    "        \n",
    "    return features"
   ]
  },
  {
   "cell_type": "markdown",
   "metadata": {},
   "source": [
    "- Added Jaccard\n",
    "- Tried Removing char_quadgram_similarity, char_trigram_similarity and quadgram_similarity for XGBoost and it improved something the accuracy, but not enough\n",
    "- Random Forest already performs better without changing anything\n",
    "- Tried removing the test set for Random Forest in the train dataset\n",
    "  - Didn't improve in everything\n",
    "- Trying to pivot the grid search of Random Forest around the best parameters\n",
    "  - Worse Results -> Will try to add new features\n",
    "- Adding ngram similarities for lemmas\n",
    "- Reran everything\n",
    "  - Performance got worse\n",
    "- Fixed Leacock, dropped Lin"
   ]
  },
  {
   "cell_type": "markdown",
   "metadata": {},
   "source": [
    "# XGBoost Training"
   ]
  },
  {
   "cell_type": "code",
   "execution_count": 117,
   "metadata": {},
   "outputs": [],
   "source": [
    "def preprocessing(sentences):\n",
    "    \"\"\"Processes the sentences to get the features\"\"\"\n",
    "    # Words (it may have numbers)\n",
    "    sentences[\"0_lower\"] = sentences[0].apply(lambda x: ''.join([char.lower() if not char.isdigit() else char for char in x]))\n",
    "    sentences[\"1_lower\"] = sentences[1].apply(lambda x: ''.join([char.lower() if not char.isdigit() else char for char in x]))\n",
    "\n",
    "    # Tokens\n",
    "    sentences[\"0_nlp\"] = sentences[\"0_lower\"].apply(lambda x: nlp(x))\n",
    "    sentences[\"1_nlp\"] = sentences[\"1_lower\"].apply(lambda x: nlp(x))\n",
    "    # Filter out stop words\n",
    "    sentences[\"0_nlp_no_stop\"] = sentences[\"0_nlp\"].apply(lambda x: [token for token in x if not token.is_stop])\n",
    "    sentences[\"1_nlp_no_stop\"] = sentences[\"1_nlp\"].apply(lambda x: [token for token in x if not token.is_stop])\n",
    "\n",
    "    # Lemmas\n",
    "    sentences['0_lemma'] = sentences['0_nlp'].apply(lambda x: [token.lemma for token in x])\n",
    "    sentences['1_lemma'] = sentences['1_nlp'].apply(lambda x: [token.lemma for token in x])\n",
    "    # Filter out stop words\n",
    "    sentences['0_lemma_no_stop'] = sentences['0_nlp_no_stop'].apply(lambda x: [token.lemma for token in x])\n",
    "    sentences['1_lemma_no_stop'] = sentences['1_nlp_no_stop'].apply(lambda x: [token.lemma for token in x])\n",
    "    return sentences"
   ]
  },
  {
   "cell_type": "code",
   "execution_count": 118,
   "metadata": {},
   "outputs": [],
   "source": [
    "# Function to read and clean data, tracking bad line indices\n",
    "def read_and_clean_data(file_path):\n",
    "    with open(file_path, 'r') as file:\n",
    "        lines = file.readlines()\n",
    "\n",
    "    cleaned_lines = []\n",
    "    bad_line_indices = []\n",
    "    for i, line in enumerate(lines):\n",
    "        fields = line.strip().split('\\t')\n",
    "        if len(fields) == 2:\n",
    "            cleaned_lines.append(fields)\n",
    "        else:\n",
    "            print(f\"Skipping bad line: {line.strip()}\")\n",
    "            bad_line_indices.append(i)\n",
    "\n",
    "    return pd.DataFrame(cleaned_lines, columns=[0, 1]), bad_line_indices"
   ]
  },
  {
   "cell_type": "code",
   "execution_count": 119,
   "metadata": {},
   "outputs": [],
   "source": [
    "# Load the train data\n",
    "sentences_file_paths = [\n",
    "    \"../Data/Train/train/STS.input.SMTeuroparl.txt\",\n",
    "    \"../Data/Train/train/STS.input.MSRvid.txt\",\n",
    "    \"../Data/Train/train/STS.input.MSRpar.txt\",\n",
    "    ]\n",
    "gold_standard_file_paths = [\n",
    "    \"../Data/Train/train/STS.gs.SMTeuroparl.txt\",\n",
    "    \"../Data/Train/train/STS.gs.MSRvid.txt\",\n",
    "    \"../Data/Train/train/STS.gs.MSRpar.txt\",\n",
    "    ]   \n",
    "\n",
    "# Read and clean the data files into DataFrames, tracking bad line indices\n",
    "sentences_list = []\n",
    "bad_line_indices_list = []\n",
    "for path in sentences_file_paths:\n",
    "    df, bad_line_indices = read_and_clean_data(path)\n",
    "    sentences_list.append(df)\n",
    "    bad_line_indices_list.append(bad_line_indices)\n",
    "\n",
    "sentences: pd.DataFrame = pd.concat(sentences_list, ignore_index=True)\n",
    "\n",
    "gs_list = [pd.read_csv(path, header=None) for path in gold_standard_file_paths]\n",
    "# Remove the rows that correspond to bad lines\n",
    "for i, gs in enumerate(gs_list):\n",
    "    gs = gs.drop(bad_line_indices_list[i])\n",
    "gs_training: pd.DataFrame = pd.concat(gs_list, ignore_index=True)\n",
    "\n",
    "\n",
    "\n",
    "sentences = preprocessing(sentences)"
   ]
  },
  {
   "cell_type": "markdown",
   "metadata": {},
   "source": [
    "## Using Every Feature"
   ]
  },
  {
   "cell_type": "code",
   "execution_count": 120,
   "metadata": {},
   "outputs": [],
   "source": [
    "features_training = get_features(sentences)"
   ]
  },
  {
   "cell_type": "code",
   "execution_count": 122,
   "metadata": {},
   "outputs": [
    {
     "name": "stdout",
     "output_type": "stream",
     "text": [
      "The pearson correlation on the reserved data for testing is: 0.8666938050902262\n"
     ]
    }
   ],
   "source": [
    "# Data split\n",
    "from sklearn.model_selection import train_test_split\n",
    "X_train, X_test, y_train, y_test = train_test_split(features_training, gs_training, test_size=0.05, random_state=13)\n",
    "\n",
    "# Hyperparameter tuning\n",
    "from sklearn.model_selection import GridSearchCV\n",
    "from scipy.stats import pearsonr\n",
    "from xgboost import XGBRegressor\n",
    "\n",
    "param_grid = {\n",
    "    'n_estimators': [100, 200, 300],\n",
    "    'max_depth': [3, 4, 5, 7],\n",
    "    'learning_rate': [0.1, 0.01, 0.001],\n",
    "    'max_leaves': [6, 12, 24],\n",
    "}\n",
    "\n",
    "xgb = XGBRegressor()\n",
    "grid_search = GridSearchCV(estimator=xgb, param_grid=param_grid, cv=5, n_jobs=-1)\n",
    "grid_search.fit(X_train, y_train)\n",
    "\n",
    "# Testing on the training set\n",
    "y_pred = grid_search.predict(X_test)\n",
    "y_test_np = np.array(y_test).reshape(-1) \n",
    "\n",
    "# Check if arrays are constant\n",
    "if np.all(y_test_np == y_test_np[0]):\n",
    "    print(\"y_test is constant\")\n",
    "if np.all(y_pred == y_pred[0]):\n",
    "    print(\"y_pred is constant\")\n",
    "\n",
    "print(f\"The pearson correlation on the reserved data for testing is: {pearsonr(np.array(y_test_np), y_pred)[0]}\")"
   ]
  },
  {
   "cell_type": "code",
   "execution_count": null,
   "metadata": {},
   "outputs": [],
   "source": [
    "# import tarfile\n",
    "\n",
    "# train_file_path = \"../Data/test-gold.tgz\"\n",
    "# extraction_path = \"../Data/Test\"\n",
    "# # Open the .tgz file\n",
    "# with tarfile.open(train_file_path, \"r:gz\") as tar:\n",
    "#     # Extract all contents to the specified directory\n",
    "#     tar.extractall(path=extraction_path)\n",
    "#     print(f\"Extracted all files to '{extraction_path}'\")"
   ]
  },
  {
   "cell_type": "code",
   "execution_count": 123,
   "metadata": {},
   "outputs": [
    {
     "data": {
      "text/plain": [
       "<Axes: title={'center': 'Feature importance'}, xlabel='F score', ylabel='Features'>"
      ]
     },
     "execution_count": 123,
     "metadata": {},
     "output_type": "execute_result"
    },
    {
     "data": {
      "image/png": "[encoded data removed]",
      "text/plain": [
       "<Figure size 640x480 with 1 Axes>"
      ]
     },
     "metadata": {},
     "output_type": "display_data"
    }
   ],
   "source": [
    "# XGBoost variables importance\n",
    "import matplotlib.pyplot as plt\n",
    "from xgboost import plot_importance\n",
    "\n",
    "plot_importance(grid_search.best_estimator_)"
   ]
  },
  {
   "cell_type": "markdown",
   "metadata": {},
   "source": [
    "### Testing in SMTeuroparl"
   ]
  },
  {
   "cell_type": "code",
   "execution_count": 124,
   "metadata": {},
   "outputs": [],
   "source": [
    "# Testing on the test sets\n",
    "sentences_testing_standard_file_path = \"../Data/Test/test-gold/STS.gs.SMTeuroparl.txt\"\n",
    "sentences_testing_file_path = \"../Data/Test/test-gold/STS.input.SMTeuroparl.txt\"\n",
    "\n",
    "sentences_testing: pd.DataFrame = pd.read_csv(sentences_testing_file_path ,sep='\\t',header=None)\n",
    "gs: pd.DataFrame = pd.read_csv(sentences_testing_standard_file_path, header=None)\n",
    "sentences_testing = preprocessing(sentences_testing)\n",
    "features_testing = get_features(sentences_testing)"
   ]
  },
  {
   "cell_type": "code",
   "execution_count": 125,
   "metadata": {},
   "outputs": [
    {
     "name": "stdout",
     "output_type": "stream",
     "text": [
      "Pearson correlation on the test set: 0.5121141204514741\n"
     ]
    }
   ],
   "source": [
    "# Predict\n",
    "y_pred_testing = grid_search.predict(features_testing)\n",
    "y_test_np_testing = np.array(gs).reshape(-1)\n",
    "\n",
    "pearson_testing = pearsonr(np.array(y_test_np_testing), y_pred_testing)[0]\n",
    "print(\"Pearson correlation on the test set:\", pearson_testing)"
   ]
  },
  {
   "cell_type": "markdown",
   "metadata": {},
   "source": [
    "### Testing on MSRpar"
   ]
  },
  {
   "cell_type": "code",
   "execution_count": 126,
   "metadata": {},
   "outputs": [],
   "source": [
    "# Testing on the test sets\n",
    "sentences_testing_standard_file_path = \"../Data/Test/test-gold/STS.gs.MSRpar.txt\"\n",
    "sentences_testing_file_path = \"../Data/Test/test-gold/STS.input.MSRpar.txt\"\n",
    "\n",
    "sentences_testing, bad_lines = read_and_clean_data(sentences_testing_file_path)\n",
    "gs: pd.DataFrame = pd.read_csv(sentences_testing_standard_file_path, header=None)\n",
    "gs = gs.drop(bad_lines)\n",
    "sentences_testing = preprocessing(sentences_testing)\n",
    "features_testing = get_features(sentences_testing)"
   ]
  },
  {
   "cell_type": "code",
   "execution_count": 127,
   "metadata": {},
   "outputs": [
    {
     "name": "stdout",
     "output_type": "stream",
     "text": [
      "Pearson correlation on the test set: 0.5342467411860377\n"
     ]
    }
   ],
   "source": [
    "# Predict\n",
    "y_pred_testing = grid_search.predict(features_testing)\n",
    "y_test_np_testing = np.array(gs).reshape(-1)\n",
    "\n",
    "pearson_testing = pearsonr(np.array(y_test_np_testing), y_pred_testing)[0]\n",
    "print(\"Pearson correlation on the test set:\", pearson_testing)"
   ]
  },
  {
   "cell_type": "markdown",
   "metadata": {},
   "source": [
    "### Testing on MSRvid"
   ]
  },
  {
   "cell_type": "code",
   "execution_count": 128,
   "metadata": {},
   "outputs": [],
   "source": [
    "# Testing on the test sets\n",
    "sentences_testing_standard_file_path = \"../Data/Test/test-gold/STS.gs.MSRvid.txt\"\n",
    "sentences_testing_file_path = \"../Data/Test/test-gold/STS.input.MSRvid.txt\"\n",
    "\n",
    "sentences_testing: pd.DataFrame = pd.read_csv(sentences_testing_file_path ,sep='\\t',header=None)\n",
    "gs: pd.DataFrame = pd.read_csv(sentences_testing_standard_file_path, header=None)\n",
    "sentences_testing = preprocessing(sentences_testing)\n",
    "features_testing = get_features(sentences_testing)"
   ]
  },
  {
   "cell_type": "code",
   "execution_count": 129,
   "metadata": {},
   "outputs": [
    {
     "name": "stdout",
     "output_type": "stream",
     "text": [
      "Pearson correlation on the test set: 0.8263934604748777\n"
     ]
    }
   ],
   "source": [
    "# Predict\n",
    "y_pred_testing = grid_search.predict(features_testing)\n",
    "y_test_np_testing = np.array(gs).reshape(-1)\n",
    "\n",
    "pearson_testing = pearsonr(np.array(y_test_np_testing), y_pred_testing)[0]\n",
    "print(\"Pearson correlation on the test set:\", pearson_testing)"
   ]
  },
  {
   "cell_type": "markdown",
   "metadata": {},
   "source": [
    "### Testing on Surprise OnWN"
   ]
  },
  {
   "cell_type": "code",
   "execution_count": 131,
   "metadata": {},
   "outputs": [],
   "source": [
    "# Testing on the test sets\n",
    "sentences_testing_standard_file_path = \"../Data/Test/test-gold/STS.gs.surprise.OnWN.txt\"\n",
    "sentences_testing_file_path = \"../Data/Test/test-gold/STS.input.surprise.OnWN.txt\"\n",
    "\n",
    "sentences_testing: pd.DataFrame = pd.read_csv(sentences_testing_file_path ,sep='\\t',header=None)\n",
    "gs: pd.DataFrame = pd.read_csv(sentences_testing_standard_file_path, header=None)\n",
    "sentences_testing = preprocessing(sentences_testing)\n",
    "features_testing = get_features(sentences_testing)"
   ]
  },
  {
   "cell_type": "code",
   "execution_count": 132,
   "metadata": {},
   "outputs": [
    {
     "name": "stdout",
     "output_type": "stream",
     "text": [
      "Pearson correlation on the test set: 0.667193936577654\n"
     ]
    }
   ],
   "source": [
    "# Predict\n",
    "y_pred_testing = grid_search.predict(features_testing)\n",
    "y_test_np_testing = np.array(gs).reshape(-1)\n",
    "\n",
    "pearson_testing = pearsonr(np.array(y_test_np_testing), y_pred_testing)[0]\n",
    "print(\"Pearson correlation on the test set:\", pearson_testing)"
   ]
  },
  {
   "cell_type": "markdown",
   "metadata": {},
   "source": [
    "### Testing on Surprise SMTnews"
   ]
  },
  {
   "cell_type": "code",
   "execution_count": 133,
   "metadata": {},
   "outputs": [],
   "source": [
    "# Testing on the test sets\n",
    "sentences_testing_standard_file_path = \"../Data/Test/test-gold/STS.gs.surprise.SMTnews.txt\"\n",
    "sentences_testing_file_path = \"../Data/Test/test-gold/STS.input.surprise.SMTnews.txt\"\n",
    "\n",
    "sentences_testing: pd.DataFrame = pd.read_csv(sentences_testing_file_path ,sep='\\t',header=None)\n",
    "gs: pd.DataFrame = pd.read_csv(sentences_testing_standard_file_path, header=None)\n",
    "sentences_testing = preprocessing(sentences_testing)\n",
    "features_testing = get_features(sentences_testing)"
   ]
  },
  {
   "cell_type": "code",
   "execution_count": 134,
   "metadata": {},
   "outputs": [
    {
     "name": "stdout",
     "output_type": "stream",
     "text": [
      "Pearson correlation on the test set: 0.5342784187304073\n"
     ]
    }
   ],
   "source": [
    "# Predict\n",
    "y_pred_testing = grid_search.predict(features_testing)\n",
    "y_test_np_testing = np.array(gs).reshape(-1)\n",
    "\n",
    "pearson_testing = pearsonr(np.array(y_test_np_testing), y_pred_testing)[0]\n",
    "print(\"Pearson correlation on the test set:\", pearson_testing)"
   ]
  },
  {
   "cell_type": "markdown",
   "metadata": {},
   "source": [
    "# Random Forest"
   ]
  },
  {
   "cell_type": "code",
   "execution_count": null,
   "metadata": {},
   "outputs": [
    {
     "data": {
      "text/html": [
       "<style>#sk-container-id-1 {\n",
       "  /* Definition of color scheme common for light and dark mode */\n",
       "  --sklearn-color-text: black;\n",
       "  --sklearn-color-line: gray;\n",
       "  /* Definition of color scheme for unfitted estimators */\n",
       "  --sklearn-color-unfitted-level-0: #fff5e6;\n",
       "  --sklearn-color-unfitted-level-1: #f6e4d2;\n",
       "  --sklearn-color-unfitted-level-2: #ffe0b3;\n",
       "  --sklearn-color-unfitted-level-3: chocolate;\n",
       "  /* Definition of color scheme for fitted estimators */\n",
       "  --sklearn-color-fitted-level-0: #f0f8ff;\n",
       "  --sklearn-color-fitted-level-1: #d4ebff;\n",
       "  --sklearn-color-fitted-level-2: #b3dbfd;\n",
       "  --sklearn-color-fitted-level-3: cornflowerblue;\n",
       "\n",
       "  /* Specific color for light theme */\n",
       "  --sklearn-color-text-on-default-background: var(--sg-text-color, var(--theme-code-foreground, var(--jp-content-font-color1, black)));\n",
       "  --sklearn-color-background: var(--sg-background-color, var(--theme-background, var(--jp-layout-color0, white)));\n",
       "  --sklearn-color-border-box: var(--sg-text-color, var(--theme-code-foreground, var(--jp-content-font-color1, black)));\n",
       "  --sklearn-color-icon: #696969;\n",
       "\n",
       "  @media (prefers-color-scheme: dark) {\n",
       "    /* Redefinition of color scheme for dark theme */\n",
       "    --sklearn-color-text-on-default-background: var(--sg-text-color, var(--theme-code-foreground, var(--jp-content-font-color1, white)));\n",
       "    --sklearn-color-background: var(--sg-background-color, var(--theme-background, var(--jp-layout-color0, #111)));\n",
       "    --sklearn-color-border-box: var(--sg-text-color, var(--theme-code-foreground, var(--jp-content-font-color1, white)));\n",
       "    --sklearn-color-icon: #878787;\n",
       "  }\n",
       "}\n",
       "\n",
       "#sk-container-id-1 {\n",
       "  color: var(--sklearn-color-text);\n",
       "}\n",
       "\n",
       "#sk-container-id-1 pre {\n",
       "  padding: 0;\n",
       "}\n",
       "\n",
       "#sk-container-id-1 input.sk-hidden--visually {\n",
       "  border: 0;\n",
       "  clip: rect(1px 1px 1px 1px);\n",
       "  clip: rect(1px, 1px, 1px, 1px);\n",
       "  height: 1px;\n",
       "  margin: -1px;\n",
       "  overflow: hidden;\n",
       "  padding: 0;\n",
       "  position: absolute;\n",
       "  width: 1px;\n",
       "}\n",
       "\n",
       "#sk-container-id-1 div.sk-dashed-wrapped {\n",
       "  border: 1px dashed var(--sklearn-color-line);\n",
       "  margin: 0 0.4em 0.5em 0.4em;\n",
       "  box-sizing: border-box;\n",
       "  padding-bottom: 0.4em;\n",
       "  background-color: var(--sklearn-color-background);\n",
       "}\n",
       "\n",
       "#sk-container-id-1 div.sk-container {\n",
       "  /* jupyter's `normalize.less` sets `[hidden] { display: none; }`\n",
       "     but bootstrap.min.css set `[hidden] { display: none !important; }`\n",
       "     so we also need the `!important` here to be able to override the\n",
       "     default hidden behavior on the sphinx rendered scikit-learn.org.\n",
       "     See: https://github.com/scikit-learn/scikit-learn/issues/21755 */\n",
       "  display: inline-block !important;\n",
       "  position: relative;\n",
       "}\n",
       "\n",
       "#sk-container-id-1 div.sk-text-repr-fallback {\n",
       "  display: none;\n",
       "}\n",
       "\n",
       "div.sk-parallel-item,\n",
       "div.sk-serial,\n",
       "div.sk-item {\n",
       "  /* draw centered vertical line to link estimators */\n",
       "  background-image: linear-gradient(var(--sklearn-color-text-on-default-background), var(--sklearn-color-text-on-default-background));\n",
       "  background-size: 2px 100%;\n",
       "  background-repeat: no-repeat;\n",
       "  background-position: center center;\n",
       "}\n",
       "\n",
       "/* Parallel-specific style estimator block */\n",
       "\n",
       "#sk-container-id-1 div.sk-parallel-item::after {\n",
       "  content: \"\";\n",
       "  width: 100%;\n",
       "  border-bottom: 2px solid var(--sklearn-color-text-on-default-background);\n",
       "  flex-grow: 1;\n",
       "}\n",
       "\n",
       "#sk-container-id-1 div.sk-parallel {\n",
       "  display: flex;\n",
       "  align-items: stretch;\n",
       "  justify-content: center;\n",
       "  background-color: var(--sklearn-color-background);\n",
       "  position: relative;\n",
       "}\n",
       "\n",
       "#sk-container-id-1 div.sk-parallel-item {\n",
       "  display: flex;\n",
       "  flex-direction: column;\n",
       "}\n",
       "\n",
       "#sk-container-id-1 div.sk-parallel-item:first-child::after {\n",
       "  align-self: flex-end;\n",
       "  width: 50%;\n",
       "}\n",
       "\n",
       "#sk-container-id-1 div.sk-parallel-item:last-child::after {\n",
       "  align-self: flex-start;\n",
       "  width: 50%;\n",
       "}\n",
       "\n",
       "#sk-container-id-1 div.sk-parallel-item:only-child::after {\n",
       "  width: 0;\n",
       "}\n",
       "\n",
       "/* Serial-specific style estimator block */\n",
       "\n",
       "#sk-container-id-1 div.sk-serial {\n",
       "  display: flex;\n",
       "  flex-direction: column;\n",
       "  align-items: center;\n",
       "  background-color: var(--sklearn-color-background);\n",
       "  padding-right: 1em;\n",
       "  padding-left: 1em;\n",
       "}\n",
       "\n",
       "\n",
       "/* Toggleable style: style used for estimator/Pipeline/ColumnTransformer box that is\n",
       "clickable and can be expanded/collapsed.\n",
       "- Pipeline and ColumnTransformer use this feature and define the default style\n",
       "- Estimators will overwrite some part of the style using the `sk-estimator` class\n",
       "*/\n",
       "\n",
       "/* Pipeline and ColumnTransformer style (default) */\n",
       "\n",
       "#sk-container-id-1 div.sk-toggleable {\n",
       "  /* Default theme specific background. It is overwritten whether we have a\n",
       "  specific estimator or a Pipeline/ColumnTransformer */\n",
       "  background-color: var(--sklearn-color-background);\n",
       "}\n",
       "\n",
       "/* Toggleable label */\n",
       "#sk-container-id-1 label.sk-toggleable__label {\n",
       "  cursor: pointer;\n",
       "  display: block;\n",
       "  width: 100%;\n",
       "  margin-bottom: 0;\n",
       "  padding: 0.5em;\n",
       "  box-sizing: border-box;\n",
       "  text-align: center;\n",
       "}\n",
       "\n",
       "#sk-container-id-1 label.sk-toggleable__label-arrow:before {\n",
       "  /* Arrow on the left of the label */\n",
       "  content: \"▸\";\n",
       "  float: left;\n",
       "  margin-right: 0.25em;\n",
       "  color: var(--sklearn-color-icon);\n",
       "}\n",
       "\n",
       "#sk-container-id-1 label.sk-toggleable__label-arrow:hover:before {\n",
       "  color: var(--sklearn-color-text);\n",
       "}\n",
       "\n",
       "/* Toggleable content - dropdown */\n",
       "\n",
       "#sk-container-id-1 div.sk-toggleable__content {\n",
       "  max-height: 0;\n",
       "  max-width: 0;\n",
       "  overflow: hidden;\n",
       "  text-align: left;\n",
       "  /* unfitted */\n",
       "  background-color: var(--sklearn-color-unfitted-level-0);\n",
       "}\n",
       "\n",
       "#sk-container-id-1 div.sk-toggleable__content.fitted {\n",
       "  /* fitted */\n",
       "  background-color: var(--sklearn-color-fitted-level-0);\n",
       "}\n",
       "\n",
       "#sk-container-id-1 div.sk-toggleable__content pre {\n",
       "  margin: 0.2em;\n",
       "  border-radius: 0.25em;\n",
       "  color: var(--sklearn-color-text);\n",
       "  /* unfitted */\n",
       "  background-color: var(--sklearn-color-unfitted-level-0);\n",
       "}\n",
       "\n",
       "#sk-container-id-1 div.sk-toggleable__content.fitted pre {\n",
       "  /* unfitted */\n",
       "  background-color: var(--sklearn-color-fitted-level-0);\n",
       "}\n",
       "\n",
       "#sk-container-id-1 input.sk-toggleable__control:checked~div.sk-toggleable__content {\n",
       "  /* Expand drop-down */\n",
       "  max-height: 200px;\n",
       "  max-width: 100%;\n",
       "  overflow: auto;\n",
       "}\n",
       "\n",
       "#sk-container-id-1 input.sk-toggleable__control:checked~label.sk-toggleable__label-arrow:before {\n",
       "  content: \"▾\";\n",
       "}\n",
       "\n",
       "/* Pipeline/ColumnTransformer-specific style */\n",
       "\n",
       "#sk-container-id-1 div.sk-label input.sk-toggleable__control:checked~label.sk-toggleable__label {\n",
       "  color: var(--sklearn-color-text);\n",
       "  background-color: var(--sklearn-color-unfitted-level-2);\n",
       "}\n",
       "\n",
       "#sk-container-id-1 div.sk-label.fitted input.sk-toggleable__control:checked~label.sk-toggleable__label {\n",
       "  background-color: var(--sklearn-color-fitted-level-2);\n",
       "}\n",
       "\n",
       "/* Estimator-specific style */\n",
       "\n",
       "/* Colorize estimator box */\n",
       "#sk-container-id-1 div.sk-estimator input.sk-toggleable__control:checked~label.sk-toggleable__label {\n",
       "  /* unfitted */\n",
       "  background-color: var(--sklearn-color-unfitted-level-2);\n",
       "}\n",
       "\n",
       "#sk-container-id-1 div.sk-estimator.fitted input.sk-toggleable__control:checked~label.sk-toggleable__label {\n",
       "  /* fitted */\n",
       "  background-color: var(--sklearn-color-fitted-level-2);\n",
       "}\n",
       "\n",
       "#sk-container-id-1 div.sk-label label.sk-toggleable__label,\n",
       "#sk-container-id-1 div.sk-label label {\n",
       "  /* The background is the default theme color */\n",
       "  color: var(--sklearn-color-text-on-default-background);\n",
       "}\n",
       "\n",
       "/* On hover, darken the color of the background */\n",
       "#sk-container-id-1 div.sk-label:hover label.sk-toggleable__label {\n",
       "  color: var(--sklearn-color-text);\n",
       "  background-color: var(--sklearn-color-unfitted-level-2);\n",
       "}\n",
       "\n",
       "/* Label box, darken color on hover, fitted */\n",
       "#sk-container-id-1 div.sk-label.fitted:hover label.sk-toggleable__label.fitted {\n",
       "  color: var(--sklearn-color-text);\n",
       "  background-color: var(--sklearn-color-fitted-level-2);\n",
       "}\n",
       "\n",
       "/* Estimator label */\n",
       "\n",
       "#sk-container-id-1 div.sk-label label {\n",
       "  font-family: monospace;\n",
       "  font-weight: bold;\n",
       "  display: inline-block;\n",
       "  line-height: 1.2em;\n",
       "}\n",
       "\n",
       "#sk-container-id-1 div.sk-label-container {\n",
       "  text-align: center;\n",
       "}\n",
       "\n",
       "/* Estimator-specific */\n",
       "#sk-container-id-1 div.sk-estimator {\n",
       "  font-family: monospace;\n",
       "  border: 1px dotted var(--sklearn-color-border-box);\n",
       "  border-radius: 0.25em;\n",
       "  box-sizing: border-box;\n",
       "  margin-bottom: 0.5em;\n",
       "  /* unfitted */\n",
       "  background-color: var(--sklearn-color-unfitted-level-0);\n",
       "}\n",
       "\n",
       "#sk-container-id-1 div.sk-estimator.fitted {\n",
       "  /* fitted */\n",
       "  background-color: var(--sklearn-color-fitted-level-0);\n",
       "}\n",
       "\n",
       "/* on hover */\n",
       "#sk-container-id-1 div.sk-estimator:hover {\n",
       "  /* unfitted */\n",
       "  background-color: var(--sklearn-color-unfitted-level-2);\n",
       "}\n",
       "\n",
       "#sk-container-id-1 div.sk-estimator.fitted:hover {\n",
       "  /* fitted */\n",
       "  background-color: var(--sklearn-color-fitted-level-2);\n",
       "}\n",
       "\n",
       "/* Specification for estimator info (e.g. \"i\" and \"?\") */\n",
       "\n",
       "/* Common style for \"i\" and \"?\" */\n",
       "\n",
       ".sk-estimator-doc-link,\n",
       "a:link.sk-estimator-doc-link,\n",
       "a:visited.sk-estimator-doc-link {\n",
       "  float: right;\n",
       "  font-size: smaller;\n",
       "  line-height: 1em;\n",
       "  font-family: monospace;\n",
       "  background-color: var(--sklearn-color-background);\n",
       "  border-radius: 1em;\n",
       "  height: 1em;\n",
       "  width: 1em;\n",
       "  text-decoration: none !important;\n",
       "  margin-left: 1ex;\n",
       "  /* unfitted */\n",
       "  border: var(--sklearn-color-unfitted-level-1) 1pt solid;\n",
       "  color: var(--sklearn-color-unfitted-level-1);\n",
       "}\n",
       "\n",
       ".sk-estimator-doc-link.fitted,\n",
       "a:link.sk-estimator-doc-link.fitted,\n",
       "a:visited.sk-estimator-doc-link.fitted {\n",
       "  /* fitted */\n",
       "  border: var(--sklearn-color-fitted-level-1) 1pt solid;\n",
       "  color: var(--sklearn-color-fitted-level-1);\n",
       "}\n",
       "\n",
       "/* On hover */\n",
       "div.sk-estimator:hover .sk-estimator-doc-link:hover,\n",
       ".sk-estimator-doc-link:hover,\n",
       "div.sk-label-container:hover .sk-estimator-doc-link:hover,\n",
       ".sk-estimator-doc-link:hover {\n",
       "  /* unfitted */\n",
       "  background-color: var(--sklearn-color-unfitted-level-3);\n",
       "  color: var(--sklearn-color-background);\n",
       "  text-decoration: none;\n",
       "}\n",
       "\n",
       "div.sk-estimator.fitted:hover .sk-estimator-doc-link.fitted:hover,\n",
       ".sk-estimator-doc-link.fitted:hover,\n",
       "div.sk-label-container:hover .sk-estimator-doc-link.fitted:hover,\n",
       ".sk-estimator-doc-link.fitted:hover {\n",
       "  /* fitted */\n",
       "  background-color: var(--sklearn-color-fitted-level-3);\n",
       "  color: var(--sklearn-color-background);\n",
       "  text-decoration: none;\n",
       "}\n",
       "\n",
       "/* Span, style for the box shown on hovering the info icon */\n",
       ".sk-estimator-doc-link span {\n",
       "  display: none;\n",
       "  z-index: 9999;\n",
       "  position: relative;\n",
       "  font-weight: normal;\n",
       "  right: .2ex;\n",
       "  padding: .5ex;\n",
       "  margin: .5ex;\n",
       "  width: min-content;\n",
       "  min-width: 20ex;\n",
       "  max-width: 50ex;\n",
       "  color: var(--sklearn-color-text);\n",
       "  box-shadow: 2pt 2pt 4pt #999;\n",
       "  /* unfitted */\n",
       "  background: var(--sklearn-color-unfitted-level-0);\n",
       "  border: .5pt solid var(--sklearn-color-unfitted-level-3);\n",
       "}\n",
       "\n",
       ".sk-estimator-doc-link.fitted span {\n",
       "  /* fitted */\n",
       "  background: var(--sklearn-color-fitted-level-0);\n",
       "  border: var(--sklearn-color-fitted-level-3);\n",
       "}\n",
       "\n",
       ".sk-estimator-doc-link:hover span {\n",
       "  display: block;\n",
       "}\n",
       "\n",
       "/* \"?\"-specific style due to the `<a>` HTML tag */\n",
       "\n",
       "#sk-container-id-1 a.estimator_doc_link {\n",
       "  float: right;\n",
       "  font-size: 1rem;\n",
       "  line-height: 1em;\n",
       "  font-family: monospace;\n",
       "  background-color: var(--sklearn-color-background);\n",
       "  border-radius: 1rem;\n",
       "  height: 1rem;\n",
       "  width: 1rem;\n",
       "  text-decoration: none;\n",
       "  /* unfitted */\n",
       "  color: var(--sklearn-color-unfitted-level-1);\n",
       "  border: var(--sklearn-color-unfitted-level-1) 1pt solid;\n",
       "}\n",
       "\n",
       "#sk-container-id-1 a.estimator_doc_link.fitted {\n",
       "  /* fitted */\n",
       "  border: var(--sklearn-color-fitted-level-1) 1pt solid;\n",
       "  color: var(--sklearn-color-fitted-level-1);\n",
       "}\n",
       "\n",
       "/* On hover */\n",
       "#sk-container-id-1 a.estimator_doc_link:hover {\n",
       "  /* unfitted */\n",
       "  background-color: var(--sklearn-color-unfitted-level-3);\n",
       "  color: var(--sklearn-color-background);\n",
       "  text-decoration: none;\n",
       "}\n",
       "\n",
       "#sk-container-id-1 a.estimator_doc_link.fitted:hover {\n",
       "  /* fitted */\n",
       "  background-color: var(--sklearn-color-fitted-level-3);\n",
       "}\n",
       "</style><div id=\"sk-container-id-1\" class=\"sk-top-container\"><div class=\"sk-text-repr-fallback\"><pre>RandomForestRegressor(max_depth=14, max_features=&#x27;log2&#x27;, n_estimators=600)</pre><b>In a Jupyter environment, please rerun this cell to show the HTML representation or trust the notebook. <br />On GitHub, the HTML representation is unable to render, please try loading this page with nbviewer.org.</b></div><div class=\"sk-container\" hidden><div class=\"sk-item\"><div class=\"sk-estimator fitted sk-toggleable\"><input class=\"sk-toggleable__control sk-hidden--visually\" id=\"sk-estimator-id-1\" type=\"checkbox\" checked><label for=\"sk-estimator-id-1\" class=\"sk-toggleable__label fitted sk-toggleable__label-arrow fitted\">&nbsp;&nbsp;RandomForestRegressor<a class=\"sk-estimator-doc-link fitted\" rel=\"noreferrer\" target=\"_blank\" href=\"https://scikit-learn.org/1.5/modules/generated/sklearn.ensemble.RandomForestRegressor.html\">?<span>Documentation for RandomForestRegressor</span></a><span class=\"sk-estimator-doc-link fitted\">i<span>Fitted</span></span></label><div class=\"sk-toggleable__content fitted\"><pre>RandomForestRegressor(max_depth=14, max_features=&#x27;log2&#x27;, n_estimators=600)</pre></div> </div></div></div></div>"
      ],
      "text/plain": [
       "RandomForestRegressor(max_depth=14, max_features='log2', n_estimators=600)"
      ]
     },
     "execution_count": 35,
     "metadata": {},
     "output_type": "execute_result"
    }
   ],
   "source": [
    "from sklearn.ensemble import RandomForestRegressor\n",
    "# Data split\n",
    "X_train = features_training\n",
    "y_train = np.ravel(gs_training)\n",
    "\n",
    "# # Hyperparameter tuning\n",
    "# from sklearn.ensemble import RandomForestRegressor\n",
    "# param_grid = {\n",
    "#     'n_estimators': [400, 500, 600],\n",
    "#     'max_depth': [ 7, 10, 12, 14],\n",
    "#     'max_features': [ 'sqrt', 'log2'],\n",
    "#     'min_samples_split': [2, 5, 10],\n",
    "#     'min_samples_leaf': [1, 2, 4],\n",
    "# }\n",
    "\n",
    "# rf = RandomForestRegressor()\n",
    "# grid_search = GridSearchCV(estimator=rf, param_grid=param_grid, cv=5, n_jobs=-1)\n",
    "\n",
    "grid_search = RandomForestRegressor(max_depth=14, max_features='log2', min_samples_leaf=1, min_samples_split=2, n_estimators=600)\n",
    "y_train = np.ravel(y_train)\n",
    "grid_search.fit(X_train, y_train)\n",
    "\n",
    "\n",
    "# print(f\"The best parameters are: {grid_search.best_params_}\")"
   ]
  },
  {
   "cell_type": "code",
   "execution_count": null,
   "metadata": {},
   "outputs": [
    {
     "name": "stdout",
     "output_type": "stream",
     "text": [
      "                               feature  importance\n",
      "14              char_bigram_similarity    0.193754\n",
      "5   jaccard_similarity_lemmas_no_stops    0.113143\n",
      "15             char_trigram_similarity    0.103263\n",
      "3   jaccard_similarity_tokens_no_stops    0.068541\n",
      "16            char_quadgram_similarity    0.061080\n",
      "13           lemma_quadgram_similarity    0.058669\n",
      "7                                 path    0.056123\n",
      "11             lemma_bigram_similarity    0.043288\n",
      "10                 quadgram_similarity    0.040106\n",
      "2            jaccard_similarity_tokens    0.039059\n",
      "8                    bigram_similarity    0.038140\n",
      "6                            wu-palmer    0.035239\n",
      "4            jaccard_similarity_lemmas    0.034365\n",
      "1                           char_ratio    0.031488\n",
      "0                          token_ratio    0.030135\n",
      "9                   trigram_similarity    0.028988\n",
      "12            lemma_trigram_similarity    0.024618\n"
     ]
    }
   ],
   "source": [
    "features_importance = pd.DataFrame()\n",
    "features_importance['feature'] = X_train.columns\n",
    "features_importance['importance'] = grid_search.feature_importances_\n",
    "print(features_importance.sort_values(by='importance', ascending=False))"
   ]
  },
  {
   "cell_type": "code",
   "execution_count": null,
   "metadata": {},
   "outputs": [],
   "source": [
    "gs_testing_list = []\n",
    "features_testing_list = []"
   ]
  },
  {
   "cell_type": "markdown",
   "metadata": {},
   "source": [
    "### Testing in SMTeuroparl"
   ]
  },
  {
   "cell_type": "code",
   "execution_count": null,
   "metadata": {},
   "outputs": [],
   "source": [
    "# Testing on the test sets\n",
    "sentences_testing_standard_file_path = \"../Data/Test/test-gold/STS.gs.SMTeuroparl.txt\"\n",
    "sentences_testing_file_path = \"../Data/Test/test-gold/STS.input.SMTeuroparl.txt\"\n",
    "\n",
    "sentences_testing: pd.DataFrame = pd.read_csv(sentences_testing_file_path ,sep='\\t',header=None)\n",
    "gs: pd.DataFrame = pd.read_csv(sentences_testing_standard_file_path, header=None)\n",
    "sentences_testing = preprocessing(sentences_testing)\n",
    "features_testing = get_features(sentences_testing)\n",
    "\n",
    "features_testing_list.append(features_testing)\n",
    "gs_testing_list.append(gs)"
   ]
  },
  {
   "cell_type": "code",
   "execution_count": null,
   "metadata": {},
   "outputs": [
    {
     "name": "stdout",
     "output_type": "stream",
     "text": [
      "Pearson correlation on the test set: 0.6118538669369196\n"
     ]
    }
   ],
   "source": [
    "# Predict\n",
    "y_pred_testing = grid_search.predict(features_testing)\n",
    "y_test_np_testing = np.array(gs).reshape(-1)\n",
    "\n",
    "pearson_testing = pearsonr(np.array(y_test_np_testing), y_pred_testing)[0]\n",
    "print(\"Pearson correlation on the test set:\", pearson_testing)"
   ]
  },
  {
   "cell_type": "markdown",
   "metadata": {},
   "source": [
    "### Testing on MSRpar"
   ]
  },
  {
   "cell_type": "code",
   "execution_count": null,
   "metadata": {},
   "outputs": [],
   "source": [
    "# Testing on the test sets\n",
    "sentences_testing_standard_file_path = \"../Data/Test/test-gold/STS.gs.MSRpar.txt\"\n",
    "sentences_testing_file_path = \"../Data/Test/test-gold/STS.input.MSRpar.txt\"\n",
    "\n",
    "sentences_testing, bad_lines = read_and_clean_data(sentences_testing_file_path)\n",
    "gs: pd.DataFrame = pd.read_csv(sentences_testing_standard_file_path, header=None)\n",
    "gs = gs.drop(bad_lines)\n",
    "sentences_testing = preprocessing(sentences_testing)\n",
    "features_testing = get_features(sentences_testing)\n",
    "\n",
    "features_testing_list.append(features_testing)\n",
    "gs_testing_list.append(gs)"
   ]
  },
  {
   "cell_type": "code",
   "execution_count": null,
   "metadata": {},
   "outputs": [
    {
     "name": "stdout",
     "output_type": "stream",
     "text": [
      "Pearson correlation on the test set: 0.5785253000925605\n"
     ]
    }
   ],
   "source": [
    "# Predict\n",
    "y_pred_testing = grid_search.predict(features_testing)\n",
    "y_test_np_testing = np.array(gs).reshape(-1)\n",
    "\n",
    "pearson_testing = pearsonr(np.array(y_test_np_testing), y_pred_testing)[0]\n",
    "print(\"Pearson correlation on the test set:\", pearson_testing)"
   ]
  },
  {
   "cell_type": "markdown",
   "metadata": {},
   "source": [
    "### Testing on MSRvid"
   ]
  },
  {
   "cell_type": "code",
   "execution_count": null,
   "metadata": {},
   "outputs": [],
   "source": [
    "# Testing on the test sets\n",
    "sentences_testing_standard_file_path = \"../Data/Test/test-gold/STS.gs.MSRvid.txt\"\n",
    "sentences_testing_file_path = \"../Data/Test/test-gold/STS.input.MSRvid.txt\"\n",
    "\n",
    "sentences_testing: pd.DataFrame = pd.read_csv(sentences_testing_file_path ,sep='\\t',header=None)\n",
    "gs: pd.DataFrame = pd.read_csv(sentences_testing_standard_file_path, header=None)\n",
    "sentences_testing = preprocessing(sentences_testing)\n",
    "features_testing = get_features(sentences_testing)\n",
    "\n",
    "features_testing_list.append(features_testing)\n",
    "gs_testing_list.append(gs)"
   ]
  },
  {
   "cell_type": "code",
   "execution_count": null,
   "metadata": {},
   "outputs": [
    {
     "name": "stdout",
     "output_type": "stream",
     "text": [
      "Pearson correlation on the test set: 0.820489917872686\n"
     ]
    }
   ],
   "source": [
    "# Predict\n",
    "y_pred_testing = grid_search.predict(features_testing)\n",
    "y_test_np_testing = np.array(gs).reshape(-1)\n",
    "\n",
    "pearson_testing = pearsonr(np.array(y_test_np_testing), y_pred_testing)[0]\n",
    "print(\"Pearson correlation on the test set:\", pearson_testing)"
   ]
  },
  {
   "cell_type": "markdown",
   "metadata": {},
   "source": [
    "### Testing on Surprise OnWN"
   ]
  },
  {
   "cell_type": "code",
   "execution_count": null,
   "metadata": {},
   "outputs": [],
   "source": [
    "# Testing on the test sets\n",
    "sentences_testing_standard_file_path = \"../Data/Test/test-gold/STS.gs.surprise.OnWN.txt\"\n",
    "sentences_testing_file_path = \"../Data/Test/test-gold/STS.input.surprise.OnWN.txt\"\n",
    "\n",
    "sentences_testing: pd.DataFrame = pd.read_csv(sentences_testing_file_path ,sep='\\t',header=None)\n",
    "gs: pd.DataFrame = pd.read_csv(sentences_testing_standard_file_path, header=None)\n",
    "sentences_testing = preprocessing(sentences_testing)\n",
    "features_testing = get_features(sentences_testing)\n",
    "\n",
    "features_testing_list.append(features_testing)\n",
    "gs_testing_list.append(gs)"
   ]
  },
  {
   "cell_type": "code",
   "execution_count": null,
   "metadata": {},
   "outputs": [
    {
     "name": "stdout",
     "output_type": "stream",
     "text": [
      "Pearson correlation on the test set: 0.6891728063703342\n"
     ]
    }
   ],
   "source": [
    "# Predict\n",
    "y_pred_testing = grid_search.predict(features_testing)\n",
    "y_test_np_testing = np.array(gs).reshape(-1)\n",
    "\n",
    "pearson_testing = pearsonr(np.array(y_test_np_testing), y_pred_testing)[0]\n",
    "print(\"Pearson correlation on the test set:\", pearson_testing)\n"
   ]
  },
  {
   "cell_type": "markdown",
   "metadata": {},
   "source": [
    "### Testing on Surprise SMTnews"
   ]
  },
  {
   "cell_type": "code",
   "execution_count": null,
   "metadata": {},
   "outputs": [],
   "source": [
    "# Testing on the test sets\n",
    "sentences_testing_standard_file_path = \"../Data/Test/test-gold/STS.gs.surprise.SMTnews.txt\"\n",
    "sentences_testing_file_path = \"../Data/Test/test-gold/STS.input.surprise.SMTnews.txt\"\n",
    "\n",
    "sentences_testing: pd.DataFrame = pd.read_csv(sentences_testing_file_path ,sep='\\t',header=None)\n",
    "gs: pd.DataFrame = pd.read_csv(sentences_testing_standard_file_path, header=None)\n",
    "sentences_testing = preprocessing(sentences_testing)\n",
    "features_testing = get_features(sentences_testing)\n",
    "\n",
    "features_testing_list.append(features_testing)\n",
    "gs_testing_list.append(gs)"
   ]
  },
  {
   "cell_type": "code",
   "execution_count": null,
   "metadata": {},
   "outputs": [
    {
     "name": "stdout",
     "output_type": "stream",
     "text": [
      "Pearson correlation on the test set: 0.5729379215001423\n"
     ]
    }
   ],
   "source": [
    "# Predict\n",
    "y_pred_testing = grid_search.predict(features_testing)\n",
    "y_test_np_testing = np.array(gs).reshape(-1)\n",
    "\n",
    "pearson_testing = pearsonr(np.array(y_test_np_testing), y_pred_testing)[0]\n",
    "print(\"Pearson correlation on the test set:\", pearson_testing)"
   ]
  },
  {
   "cell_type": "markdown",
   "metadata": {},
   "source": [
    "### Testing on all datasets"
   ]
  },
  {
   "cell_type": "code",
   "execution_count": null,
   "metadata": {},
   "outputs": [
    {
     "ename": "ValueError",
     "evalue": "feature_names mismatch: ['token_ratio', 'char_ratio', 'jaccard_similarity_tokens', 'jaccard_similarity_tokens_no_stops', 'jaccard_similarity_lemmas', 'jaccard_similarity_lemmas_no_stops', 'wu-palmer', 'path', 'bigram_similarity', 'trigram_similarity', 'quadgram_similarity', 'lemma_bigram_similarity', 'lemma_trigram_similarity', 'lemma_quadgram_similarity', 'char_bigram_similarity', 'char_trigram_similarity', 'char_quadgram_similarity', 'char_ngram_vector_similarity_2', 'char_ngram_vector_similarity_3', 'char_ngram_vector_similarity_4', 'char_ngram_vector_similarity_5', 'char_ngram_vector_similarity_2_3'] ['token_ratio', 'char_ratio', 'jaccard_similarity_tokens', 'jaccard_similarity_tokens_no_stops', 'jaccard_similarity_lemmas', 'jaccard_similarity_lemmas_no_stops', 'wu-palmer', 'path', 'bigram_similarity', 'trigram_similarity', 'quadgram_similarity', 'lemma_bigram_similarity', 'lemma_trigram_similarity', 'lemma_quadgram_similarity', 'char_bigram_similarity', 'char_trigram_similarity', 'char_quadgram_similarity']\nexpected char_ngram_vector_similarity_3, char_ngram_vector_similarity_2_3, char_ngram_vector_similarity_2, char_ngram_vector_similarity_5, char_ngram_vector_similarity_4 in input data",
     "output_type": "error",
     "traceback": [
      "\u001b[0;31m---------------------------------------------------------------------------\u001b[0m",
      "\u001b[0;31mValueError\u001b[0m                                Traceback (most recent call last)",
      "Cell \u001b[0;32mIn[74], line 5\u001b[0m\n\u001b[1;32m      2\u001b[0m gs_all \u001b[38;5;241m=\u001b[39m pd\u001b[38;5;241m.\u001b[39mconcat(gs_testing_list, ignore_index\u001b[38;5;241m=\u001b[39m\u001b[38;5;28;01mTrue\u001b[39;00m)\n\u001b[1;32m      4\u001b[0m \u001b[38;5;66;03m# Predict\u001b[39;00m\n\u001b[0;32m----> 5\u001b[0m y_pred_testing \u001b[38;5;241m=\u001b[39m \u001b[43mgrid_search\u001b[49m\u001b[38;5;241;43m.\u001b[39;49m\u001b[43mpredict\u001b[49m\u001b[43m(\u001b[49m\u001b[43mfeatures_all\u001b[49m\u001b[43m)\u001b[49m\n\u001b[1;32m      6\u001b[0m y_test_np_testing \u001b[38;5;241m=\u001b[39m np\u001b[38;5;241m.\u001b[39marray(gs_all)\u001b[38;5;241m.\u001b[39mreshape(\u001b[38;5;241m-\u001b[39m\u001b[38;5;241m1\u001b[39m)\n\u001b[1;32m      8\u001b[0m pearson_testing \u001b[38;5;241m=\u001b[39m pearsonr(np\u001b[38;5;241m.\u001b[39marray(y_test_np_testing), y_pred_testing)[\u001b[38;5;241m0\u001b[39m]\n",
      "File \u001b[0;32m~/miniconda3/envs/ihlt/lib/python3.12/site-packages/sklearn/model_selection/_search.py:597\u001b[0m, in \u001b[0;36mBaseSearchCV.predict\u001b[0;34m(self, X)\u001b[0m\n\u001b[1;32m    579\u001b[0m \u001b[38;5;250m\u001b[39m\u001b[38;5;124;03m\"\"\"Call predict on the estimator with the best found parameters.\u001b[39;00m\n\u001b[1;32m    580\u001b[0m \n\u001b[1;32m    581\u001b[0m \u001b[38;5;124;03mOnly available if ``refit=True`` and the underlying estimator supports\u001b[39;00m\n\u001b[0;32m   (...)\u001b[0m\n\u001b[1;32m    594\u001b[0m \u001b[38;5;124;03m    the best found parameters.\u001b[39;00m\n\u001b[1;32m    595\u001b[0m \u001b[38;5;124;03m\"\"\"\u001b[39;00m\n\u001b[1;32m    596\u001b[0m check_is_fitted(\u001b[38;5;28mself\u001b[39m)\n\u001b[0;32m--> 597\u001b[0m \u001b[38;5;28;01mreturn\u001b[39;00m \u001b[38;5;28;43mself\u001b[39;49m\u001b[38;5;241;43m.\u001b[39;49m\u001b[43mbest_estimator_\u001b[49m\u001b[38;5;241;43m.\u001b[39;49m\u001b[43mpredict\u001b[49m\u001b[43m(\u001b[49m\u001b[43mX\u001b[49m\u001b[43m)\u001b[49m\n",
      "File \u001b[0;32m~/miniconda3/envs/ihlt/lib/python3.12/site-packages/xgboost/sklearn.py:1186\u001b[0m, in \u001b[0;36mXGBModel.predict\u001b[0;34m(self, X, output_margin, validate_features, base_margin, iteration_range)\u001b[0m\n\u001b[1;32m   1184\u001b[0m \u001b[38;5;28;01mif\u001b[39;00m \u001b[38;5;28mself\u001b[39m\u001b[38;5;241m.\u001b[39m_can_use_inplace_predict():\n\u001b[1;32m   1185\u001b[0m     \u001b[38;5;28;01mtry\u001b[39;00m:\n\u001b[0;32m-> 1186\u001b[0m         predts \u001b[38;5;241m=\u001b[39m \u001b[38;5;28;43mself\u001b[39;49m\u001b[38;5;241;43m.\u001b[39;49m\u001b[43mget_booster\u001b[49m\u001b[43m(\u001b[49m\u001b[43m)\u001b[49m\u001b[38;5;241;43m.\u001b[39;49m\u001b[43minplace_predict\u001b[49m\u001b[43m(\u001b[49m\n\u001b[1;32m   1187\u001b[0m \u001b[43m            \u001b[49m\u001b[43mdata\u001b[49m\u001b[38;5;241;43m=\u001b[39;49m\u001b[43mX\u001b[49m\u001b[43m,\u001b[49m\n\u001b[1;32m   1188\u001b[0m \u001b[43m            \u001b[49m\u001b[43miteration_range\u001b[49m\u001b[38;5;241;43m=\u001b[39;49m\u001b[43miteration_range\u001b[49m\u001b[43m,\u001b[49m\n\u001b[1;32m   1189\u001b[0m \u001b[43m            \u001b[49m\u001b[43mpredict_type\u001b[49m\u001b[38;5;241;43m=\u001b[39;49m\u001b[38;5;124;43m\"\u001b[39;49m\u001b[38;5;124;43mmargin\u001b[39;49m\u001b[38;5;124;43m\"\u001b[39;49m\u001b[43m \u001b[49m\u001b[38;5;28;43;01mif\u001b[39;49;00m\u001b[43m \u001b[49m\u001b[43moutput_margin\u001b[49m\u001b[43m \u001b[49m\u001b[38;5;28;43;01melse\u001b[39;49;00m\u001b[43m \u001b[49m\u001b[38;5;124;43m\"\u001b[39;49m\u001b[38;5;124;43mvalue\u001b[39;49m\u001b[38;5;124;43m\"\u001b[39;49m\u001b[43m,\u001b[49m\n\u001b[1;32m   1190\u001b[0m \u001b[43m            \u001b[49m\u001b[43mmissing\u001b[49m\u001b[38;5;241;43m=\u001b[39;49m\u001b[38;5;28;43mself\u001b[39;49m\u001b[38;5;241;43m.\u001b[39;49m\u001b[43mmissing\u001b[49m\u001b[43m,\u001b[49m\n\u001b[1;32m   1191\u001b[0m \u001b[43m            \u001b[49m\u001b[43mbase_margin\u001b[49m\u001b[38;5;241;43m=\u001b[39;49m\u001b[43mbase_margin\u001b[49m\u001b[43m,\u001b[49m\n\u001b[1;32m   1192\u001b[0m \u001b[43m            \u001b[49m\u001b[43mvalidate_features\u001b[49m\u001b[38;5;241;43m=\u001b[39;49m\u001b[43mvalidate_features\u001b[49m\u001b[43m,\u001b[49m\n\u001b[1;32m   1193\u001b[0m \u001b[43m        \u001b[49m\u001b[43m)\u001b[49m\n\u001b[1;32m   1194\u001b[0m         \u001b[38;5;28;01mif\u001b[39;00m _is_cupy_alike(predts):\n\u001b[1;32m   1195\u001b[0m             \u001b[38;5;28;01mimport\u001b[39;00m \u001b[38;5;21;01mcupy\u001b[39;00m  \u001b[38;5;66;03m# pylint: disable=import-error\u001b[39;00m\n",
      "File \u001b[0;32m~/miniconda3/envs/ihlt/lib/python3.12/site-packages/xgboost/core.py:2514\u001b[0m, in \u001b[0;36mBooster.inplace_predict\u001b[0;34m(self, data, iteration_range, predict_type, missing, validate_features, base_margin, strict_shape)\u001b[0m\n\u001b[1;32m   2512\u001b[0m     data, fns, _ \u001b[38;5;241m=\u001b[39m _transform_pandas_df(data, enable_categorical)\n\u001b[1;32m   2513\u001b[0m     \u001b[38;5;28;01mif\u001b[39;00m validate_features:\n\u001b[0;32m-> 2514\u001b[0m         \u001b[38;5;28;43mself\u001b[39;49m\u001b[38;5;241;43m.\u001b[39;49m\u001b[43m_validate_features\u001b[49m\u001b[43m(\u001b[49m\u001b[43mfns\u001b[49m\u001b[43m)\u001b[49m\n\u001b[1;32m   2515\u001b[0m \u001b[38;5;28;01mif\u001b[39;00m _is_list(data) \u001b[38;5;129;01mor\u001b[39;00m _is_tuple(data):\n\u001b[1;32m   2516\u001b[0m     data \u001b[38;5;241m=\u001b[39m np\u001b[38;5;241m.\u001b[39marray(data)\n",
      "File \u001b[0;32m~/miniconda3/envs/ihlt/lib/python3.12/site-packages/xgboost/core.py:3079\u001b[0m, in \u001b[0;36mBooster._validate_features\u001b[0;34m(self, feature_names)\u001b[0m\n\u001b[1;32m   3073\u001b[0m \u001b[38;5;28;01mif\u001b[39;00m my_missing:\n\u001b[1;32m   3074\u001b[0m     msg \u001b[38;5;241m+\u001b[39m\u001b[38;5;241m=\u001b[39m (\n\u001b[1;32m   3075\u001b[0m         \u001b[38;5;124m\"\u001b[39m\u001b[38;5;130;01m\\n\u001b[39;00m\u001b[38;5;124mtraining data did not have the following fields: \u001b[39m\u001b[38;5;124m\"\u001b[39m\n\u001b[1;32m   3076\u001b[0m         \u001b[38;5;241m+\u001b[39m \u001b[38;5;124m\"\u001b[39m\u001b[38;5;124m, \u001b[39m\u001b[38;5;124m\"\u001b[39m\u001b[38;5;241m.\u001b[39mjoin(\u001b[38;5;28mstr\u001b[39m(s) \u001b[38;5;28;01mfor\u001b[39;00m s \u001b[38;5;129;01min\u001b[39;00m my_missing)\n\u001b[1;32m   3077\u001b[0m     )\n\u001b[0;32m-> 3079\u001b[0m \u001b[38;5;28;01mraise\u001b[39;00m \u001b[38;5;167;01mValueError\u001b[39;00m(msg\u001b[38;5;241m.\u001b[39mformat(\u001b[38;5;28mself\u001b[39m\u001b[38;5;241m.\u001b[39mfeature_names, feature_names))\n",
      "\u001b[0;31mValueError\u001b[0m: feature_names mismatch: ['token_ratio', 'char_ratio', 'jaccard_similarity_tokens', 'jaccard_similarity_tokens_no_stops', 'jaccard_similarity_lemmas', 'jaccard_similarity_lemmas_no_stops', 'wu-palmer', 'path', 'bigram_similarity', 'trigram_similarity', 'quadgram_similarity', 'lemma_bigram_similarity', 'lemma_trigram_similarity', 'lemma_quadgram_similarity', 'char_bigram_similarity', 'char_trigram_similarity', 'char_quadgram_similarity', 'char_ngram_vector_similarity_2', 'char_ngram_vector_similarity_3', 'char_ngram_vector_similarity_4', 'char_ngram_vector_similarity_5', 'char_ngram_vector_similarity_2_3'] ['token_ratio', 'char_ratio', 'jaccard_similarity_tokens', 'jaccard_similarity_tokens_no_stops', 'jaccard_similarity_lemmas', 'jaccard_similarity_lemmas_no_stops', 'wu-palmer', 'path', 'bigram_similarity', 'trigram_similarity', 'quadgram_similarity', 'lemma_bigram_similarity', 'lemma_trigram_similarity', 'lemma_quadgram_similarity', 'char_bigram_similarity', 'char_trigram_similarity', 'char_quadgram_similarity']\nexpected char_ngram_vector_similarity_3, char_ngram_vector_similarity_2_3, char_ngram_vector_similarity_2, char_ngram_vector_similarity_5, char_ngram_vector_similarity_4 in input data"
     ]
    }
   ],
   "source": [
    "features_all = pd.concat(features_testing_list, ignore_index=True)\n",
    "gs_all = pd.concat(gs_testing_list, ignore_index=True)\n",
    "\n",
    "# Predict\n",
    "y_pred_testing = grid_search.predict(features_all)\n",
    "y_test_np_testing = np.array(gs_all).reshape(-1)\n",
    "\n",
    "pearson_testing = pearsonr(np.array(y_test_np_testing), y_pred_testing)[0]\n",
    "print(\"Pearson correlation on the test set:\", pearson_testing)"
   ]
  },
  {
   "cell_type": "markdown",
   "metadata": {},
   "source": [
    "https://github.com/nltk/nltk_data/issues/185 : \"the information_content() function in wordnet.py is not yet handling adjective satellites. So it is a nltk/nltk issue, because nothing needs to be changed in nltk_data.\" "
   ]
  }
 ],
 "metadata": {
  "kernelspec": {
   "display_name": "ihlt",
   "language": "python",
   "name": "python3"
  },
  "language_info": {
   "codemirror_mode": {
    "name": "ipython",
    "version": 3
   },
   "file_extension": ".py",
   "mimetype": "text/x-python",
   "name": "python",
   "nbconvert_exporter": "python",
   "pygments_lexer": "ipython3",
   "version": "3.12.7"
  }
 },
 "nbformat": 4,
 "nbformat_minor": 2
}
